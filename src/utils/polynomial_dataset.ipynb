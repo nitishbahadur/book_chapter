{
 "cells": [
  {
   "cell_type": "markdown",
   "metadata": {},
   "source": [
    "# Synthetic Polynomial Data Generator"
   ]
  },
  {
   "cell_type": "markdown",
   "metadata": {},
   "source": [
    "You <font color='red'>don't</font> have to run this code but we are providing this for completeness.  High dimensional synthetic polynomial data is available at https://github.com/nitishbahadur/book_chapter/tree/master/data/synthetic_polynomial/input"
   ]
  },
  {
   "cell_type": "code",
   "execution_count": 1,
   "metadata": {},
   "outputs": [],
   "source": [
    "import pandas as pd\n",
    "import numpy as np\n",
    "from sympy import Symbol,sympify,symbols,lambdify,expand\n",
    "import random"
   ]
  },
  {
   "cell_type": "code",
   "execution_count": 2,
   "metadata": {},
   "outputs": [],
   "source": [
    "x, y, z, A, B, C = symbols('x y z A B C')"
   ]
  },
  {
   "cell_type": "code",
   "execution_count": 3,
   "metadata": {},
   "outputs": [],
   "source": [
    "expr = (A*x + B*y + C*z)"
   ]
  },
  {
   "cell_type": "code",
   "execution_count": 4,
   "metadata": {},
   "outputs": [
    {
     "data": {
      "text/latex": [
       "$\\displaystyle A^{3} x^{3} + 3 A^{2} B x^{2} y + 3 A^{2} C x^{2} z + A^{2} x^{2} + 3 A B^{2} x y^{2} + 6 A B C x y z + 2 A B x y + 3 A C^{2} x z^{2} + 2 A C x z + A x + B^{3} y^{3} + 3 B^{2} C y^{2} z + B^{2} y^{2} + 3 B C^{2} y z^{2} + 2 B C y z + B y + C^{3} z^{3} + C^{2} z^{2} + C z$"
      ],
      "text/plain": [
       "A**3*x**3 + 3*A**2*B*x**2*y + 3*A**2*C*x**2*z + A**2*x**2 + 3*A*B**2*x*y**2 + 6*A*B*C*x*y*z + 2*A*B*x*y + 3*A*C**2*x*z**2 + 2*A*C*x*z + A*x + B**3*y**3 + 3*B**2*C*y**2*z + B**2*y**2 + 3*B*C**2*y*z**2 + 2*B*C*y*z + B*y + C**3*z**3 + C**2*z**2 + C*z"
      ]
     },
     "execution_count": 4,
     "metadata": {},
     "output_type": "execute_result"
    }
   ],
   "source": [
    "expand(expr) + expand(expr*expr) + expand(expr * expr * expr)"
   ]
  },
  {
   "cell_type": "markdown",
   "metadata": {},
   "source": [
    "The co-efficients of $x$, $y$, and $z$ is replaced by $P$, $Q$, $R$, etc. "
   ]
  },
  {
   "cell_type": "markdown",
   "metadata": {},
   "source": [
    "$Mx^3 + Nx^2y + Ox^2z + Px^2 + Qxy^2 + Rxyz + Sxy + Txz^2 + Uxz + Vx + Ay^3 + By^2z + Cy^2 + Dyz^2 + Eyz + Fy + Gz^3 + Hz^2 + Iz + J$"
   ]
  },
  {
   "cell_type": "markdown",
   "metadata": {},
   "source": [
    "Generate $M, N, O, P...I, J$, the coefficients.  These are the columns and constant for all $x, y, z$.  "
   ]
  },
  {
   "cell_type": "code",
   "execution_count": 11,
   "metadata": {},
   "outputs": [],
   "source": [
    "# generate a random number\n",
    "def generate_random_number():\n",
    "    x = 100 # a large number\n",
    "    while True:\n",
    "        x = np.random.normal(loc=0,scale=1.0)\n",
    "        if (x > -1) and (x < 1):\n",
    "            break\n",
    "    return np.round(x, 2)\n",
    "\n",
    "# ---------------------------------------\n",
    "# generates a tuple of coefficients\n",
    "# These are constants for the column\n",
    "# ---------------------------------------\n",
    "def generate_coefficients():\n",
    "    with open(r'X_coefficients.csv', 'w') as file:\n",
    "        file.write(\"M,N,O,P,Q,R,S,T,U,V,A,B,C,D,E,F,G,H,I,J\\n\")\n",
    "\n",
    "        for x in range(784):\n",
    "            rand_nums = []\n",
    "            for i in range(20):\n",
    "                num = generate_random_number()\n",
    "                rand_nums.append(num)\n",
    "            joined_string = \",\".join([str(i) for i in rand_nums]) \n",
    "            file.write(f\"{joined_string}\\n\")\n",
    "\n",
    "# -------------------------------------------            \n",
    "# generates tuple of (x,y,z)            \n",
    "# These are the constant for for the row.\n",
    "# ------------------------------------------\n",
    "def generate_xyz(std_dev):\n",
    "    with open(r'XYZ_{}.csv'.format(std_dev), 'w') as file:\n",
    "        file.write(\"X,Y,Z\\n\")\n",
    "        for x in range(5000):\n",
    "            x = np.round(np.random.normal(loc=0,scale=std_dev), 2)\n",
    "            y = np.round(np.random.normal(loc=0.2,scale=std_dev), 2)\n",
    "            z = np.round(np.random.normal(loc=-0.4,scale=std_dev), 2)\n",
    "            file.write(f\"{x},{y},{z}\\n\")            "
   ]
  },
  {
   "cell_type": "markdown",
   "metadata": {},
   "source": [
    "Now generate the random values that will be used to generate synthetic polynomial"
   ]
  },
  {
   "cell_type": "code",
   "execution_count": 14,
   "metadata": {},
   "outputs": [],
   "source": [
    "generate_coefficients()\n",
    "generate_xyz(1.0)"
   ]
  },
  {
   "cell_type": "code",
   "execution_count": 5,
   "metadata": {},
   "outputs": [],
   "source": [
    "'''\n",
    "The function calculates the value for each cell in a m x n dataset.\n",
    "The row and column values are generated prior to this function\n",
    "'''\n",
    "def eval(xyz_row, coeff_):  \n",
    "    x = xyz_row['X']; y = xyz_row['Y']; z = xyz_row['Z']\n",
    "    \n",
    "#     𝑀𝑥3 + 𝑁𝑥2𝑦 + 𝑂𝑥2𝑧 + 𝑃𝑥2 + 𝑄𝑥𝑦2 + 𝑅𝑥𝑦𝑧 + \n",
    "    M = coeff_['M']; N = coeff_['N']; O = coeff_['O']; P = coeff_['P']; Q = coeff_['Q']; R = coeff_['R'];\n",
    "    val1 = M*(x**3) + N*(x**2)*y + O*(x**2)*z + P*(x**2) + Q*x*(y**2) + R*x*y*z\n",
    "    \n",
    "#     𝑆𝑥𝑦 + 𝑇𝑥𝑧2 + 𝑈𝑥𝑧 + 𝑉𝑥 + 𝐴𝑦3 + 𝐵𝑦2𝑧 + 𝐶𝑦2 + \n",
    "    S = coeff_['S']; T = coeff_['T']; U = coeff_['U']; V = coeff_['V']; A = coeff_['A']; B = coeff_['B']; C = coeff_['C'];\n",
    "    val2 = S*x*y + T*x*(z**2) + U*x*z + V*x + A*(y**3) + B*(y**2)*z + C*(y**2)\n",
    "    \n",
    "#     𝐷𝑦𝑧2 + 𝐸𝑦𝑧 + 𝐹𝑦 + 𝐺𝑧3 + 𝐻𝑧2 + 𝐼𝑧 + 𝐽\n",
    "    D = coeff_['D']; E = coeff_['E']; F = coeff_['F']; G = coeff_['G']; H = coeff_['H']; I = coeff_['I']; J = coeff_['J'];\n",
    "    val3 = D*y*(z**2) + E*y*z + F*y + G*(z**3) + H*(z**2) + I*z \n",
    "    \n",
    "    #+ J\n",
    "    \n",
    "    val =  val1 + val2 + val3\n",
    "    \n",
    "    return val"
   ]
  },
  {
   "cell_type": "markdown",
   "metadata": {},
   "source": [
    "Generate Y_stddev.csv for each of $x,y,z$ with different standard deviations"
   ]
  },
  {
   "cell_type": "code",
   "execution_count": 4,
   "metadata": {},
   "outputs": [],
   "source": [
    "def generate_Y_stddev(std):\n",
    "    df = pd.read_csv(r'XYZ_{}.csv'.format(std))\n",
    "    df_coeff = pd.read_csv(r'X_coefficients.csv')\n",
    "    with open(r'Y_{}.csv'.format(std), 'w') as file:\n",
    "        for df_index, df_row in df.iterrows():\n",
    "            a_list = []\n",
    "            for x_coeff_index, coeff_col in df_coeff.iterrows():\n",
    "                a_list.append(eval(df_row, coeff_col))\n",
    "            joined_string = \",\".join([str(i) for i in a_list]) \n",
    "            file.write(joined_string + \"\\n\")"
   ]
  },
  {
   "cell_type": "code",
   "execution_count": 5,
   "metadata": {},
   "outputs": [],
   "source": [
    "generate_Y_stddev(1.0)"
   ]
  },
  {
   "cell_type": "code",
   "execution_count": 11,
   "metadata": {},
   "outputs": [],
   "source": [
    "df = pd.read_csv(r'Y_1.0.csv', header=None)\n",
    "m = df.values\n",
    "np.save(r'Y_10.npy', m)"
   ]
  }
 ],
 "metadata": {
  "kernelspec": {
   "display_name": "pythongpu",
   "language": "python",
   "name": "pythongpu"
  },
  "language_info": {
   "codemirror_mode": {
    "name": "ipython",
    "version": 3
   },
   "file_extension": ".py",
   "mimetype": "text/x-python",
   "name": "python",
   "nbconvert_exporter": "python",
   "pygments_lexer": "ipython3",
   "version": "3.7.9"
  }
 },
 "nbformat": 4,
 "nbformat_minor": 4
}
