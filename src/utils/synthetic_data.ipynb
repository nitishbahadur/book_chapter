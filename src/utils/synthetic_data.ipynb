{
 "cells": [
  {
   "cell_type": "markdown",
   "metadata": {},
   "source": [
    "# Synthetic Data Generator"
   ]
  },
  {
   "cell_type": "markdown",
   "metadata": {},
   "source": [
    "You don't have to run this code but we are providing this for completeness.  The high dimensional synthetic data $\\mathbf{C}$ and its non-linear transformation $\\mathbf{D}$ is available at https://github.com/nitishbahadur/book_chapter/tree/master/data/synthetic_data/input"
   ]
  },
  {
   "cell_type": "markdown",
   "metadata": {},
   "source": [
    "How did we create the sythetic dataset?\n",
    "\n",
    "We created a random array $\\mathbf{C} = \\mathbf{A} \\times \\mathbf{B}$ \n",
    " - $\\mathbf{A}~\\epsilon~\\mathbb{R}^{5000\\times5}$\n",
    " - $\\mathbf{B}~\\epsilon~\\mathbb{R}^{5\\times784}$\n",
    " \n",
    "We apply nonlinear transformations to $\\mathbf{C}$ to create $\\mathbf{D} = g(\\mathbf{C})$, where $\\mathbf{D}~\\epsilon~\\mathbb{R}^{5000\\times784}$ but has known dimension $5$."
   ]
  },
  {
   "cell_type": "code",
   "execution_count": 23,
   "metadata": {},
   "outputs": [],
   "source": [
    "import numpy as np\n",
    "import time\n",
    "import os\n",
    "import random"
   ]
  },
  {
   "cell_type": "code",
   "execution_count": 24,
   "metadata": {},
   "outputs": [],
   "source": [
    "A = np.random.rand(5000,5)\n",
    "B = np.random.rand(5, 784)\n",
    "C = np.matmul(A, B)"
   ]
  },
  {
   "cell_type": "markdown",
   "metadata": {},
   "source": [
    "Apply non-linear transformation"
   ]
  },
  {
   "cell_type": "markdown",
   "metadata": {},
   "source": [
    "We create a matrix $\\mathbf{D}~\\epsilon~\\mathbb{R}^{5000\\times784}$, by using non-linear functions on columns of $\\mathbf{C}~\\epsilon~\\mathbb{R}^{5000\\times784}$ and adding it to another randomly selected column of $\\mathbf{C}~\\epsilon~\\mathbb{R}^{5000\\times784}$."
   ]
  },
  {
   "cell_type": "markdown",
   "metadata": {},
   "source": [
    "Select the catalog of non-linear functions you want to apply to each column of $\\mathbf{C}$.  We can additional non-linear functions to this dictionary"
   ]
  },
  {
   "cell_type": "code",
   "execution_count": 25,
   "metadata": {},
   "outputs": [],
   "source": [
    "funcdict = {\n",
    "    'power' : np.power,\n",
    "    'exp' : np.exp,\n",
    "    'reciprocal' : np.reciprocal,\n",
    "    'exp2' : np.exp2\n",
    "}"
   ]
  },
  {
   "cell_type": "code",
   "execution_count": 26,
   "metadata": {},
   "outputs": [],
   "source": [
    "'''\n",
    "The function random generates a non-linear function from the function dictionary above.\n",
    "This function is applied to column of matrix C\n",
    "\n",
    "  function_name : function pointer to a numpy non-linear function\n",
    "'''\n",
    "def get_nonlinear_fn():\n",
    "    functions = list(funcdict.keys())\n",
    "    rand_int = np.random.randint(0, 100)\n",
    "    function_index = rand_int % len(functions)\n",
    "    function_name = functions[function_index]\n",
    "    return function_name"
   ]
  },
  {
   "cell_type": "code",
   "execution_count": 27,
   "metadata": {},
   "outputs": [],
   "source": [
    "'''\n",
    "An additional level of randomness is added for power function, \n",
    "where even the exponent is randomly selected.\n",
    "'''\n",
    "def apply_function(col_data, fn, multiplier, fh):\n",
    "#     print(f\"Going to apply : {fn}\")\n",
    "    func = funcdict[fn]\n",
    "    if fn == 'power':\n",
    "        exponent = np.random.rand() * multiplier\n",
    "        result = func(col_data, exponent)\n",
    "        fh.write(f\"\\t The exponent for power function is {exponent}\\n\")\n",
    "    elif fn.startswith(\"log\"):\n",
    "        epsilon = 0.001\n",
    "        result = func(np.abs(col_data) + epsilon)\n",
    "    else:\n",
    "        result = func(col_data)\n",
    "    return result\n",
    "\n",
    "'''\n",
    "This is the main routine that applies a non-linear transformation to each column of input matrix M.\n",
    "The output matrix D is of the same shape of M.  Additionally, the user can decide that each column \n",
    "of matrix D is generated from how many columns from matrix M.  For example, if use_n_cols = 2, which \n",
    "is what we used, then to generate first column of D we randomly select 2 columns from M.  Then \n",
    "apply 2 random selected non-linear transformation to these columns and finally add the 2 columns to \n",
    "generate a column for matrix D.\n",
    "\n",
    "  M: input data matrix\n",
    "  use_n_cols: how many columns from matrix M should we use\n",
    "  fh: a file handler to log, exactly what tranformations were used\n",
    "'''\n",
    "def apply_nonlinear_fn(M, use_n_cols, fh):\n",
    "    functions = list(funcdict.keys())    \n",
    "    n_cols = M.shape[1]\n",
    "    n_functions = len(functions)\n",
    "    iteration_dict = {}\n",
    "    transformations = []\n",
    "    D = None\n",
    "\n",
    "    for col_index in range(n_cols):\n",
    "        rand_col_index = random.sample(range(n_cols), use_n_cols)\n",
    "        rand_fun_index = random.sample(range(n_functions), use_n_cols)\n",
    "        new_col_data = []        \n",
    "        fh.write(f\"Column {col_index} is produced by\\n\")\n",
    "        for i in range(use_n_cols):\n",
    "            multiplier = np.random.randint(1, 5)\n",
    "            fn = functions[rand_fun_index[i]]\n",
    "            fh.write(f\"\\t Applying np.{fn} to Column {rand_col_index[i]}\\n\")\n",
    "            if len(new_col_data) == 0:\n",
    "                new_col_data = apply_function(M[:,rand_col_index[i]], fn, multiplier, fh)\n",
    "            else:\n",
    "                new_col_data = new_col_data + apply_function(M[:,rand_col_index[i]], fn, multiplier, fh)    \n",
    "        fh.write(f\"\\t Finally, we add the 2 columns to produce Column {col_index}\\n\")\n",
    "        if D is None:\n",
    "            D = new_col_data\n",
    "        else:\n",
    "            D = np.column_stack((D, new_col_data))\n",
    "    D = (D - D.mean(axis=0))/np.std(D, axis=0)\n",
    "    return D"
   ]
  },
  {
   "cell_type": "markdown",
   "metadata": {},
   "source": [
    "To run the code, please uncomment it.  "
   ]
  },
  {
   "cell_type": "code",
   "execution_count": 28,
   "metadata": {},
   "outputs": [],
   "source": [
    "def count_gt_threshold(z, threshold):\n",
    "    tot = sum(z)\n",
    "    z_pct = [(i/tot) for i in sorted(z, reverse=True)]\n",
    "    z_gt_theta = [i for i in z_pct if i >= threshold]\n",
    "    return len(z_gt_theta)"
   ]
  },
  {
   "cell_type": "code",
   "execution_count": 29,
   "metadata": {},
   "outputs": [],
   "source": [
    "# if a value is greater than 1% it is not noise\n",
    "gte_threshold_ = 0.01"
   ]
  },
  {
   "cell_type": "code",
   "execution_count": 30,
   "metadata": {},
   "outputs": [],
   "source": [
    "U, S, V = np.linalg.svd(C)\n",
    "c_gte_dim = count_gt_threshold(z = S, threshold = gte_threshold_)"
   ]
  },
  {
   "cell_type": "code",
   "execution_count": 31,
   "metadata": {},
   "outputs": [
    {
     "name": "stdout",
     "output_type": "stream",
     "text": [
      "The linear dimension of original dataset C is 5\n"
     ]
    }
   ],
   "source": [
    "print(f\"The linear dimension of original dataset C is {c_gte_dim}\")"
   ]
  },
  {
   "cell_type": "markdown",
   "metadata": {},
   "source": [
    "You <font color='red'>DON'T</font> need to run this.  We are only providing this for completeness.  If you decide to generate a non-linear dataset whose linear dimension is completely different from \"5\", as shown above, then you need to change 2 parameters.  First, increase max_iterations, and second change the threshold of linear dimension. In this case we are using 15.\n",
    "\n",
    "The high dimensional synthetic data $\\mathbf{C}$ and its non-linear transformation $\\mathbf{D}$ is available at https://github.com/nitishbahadur/book_chapter/tree/master/data/synthetic_data/input\n",
    "\n",
    "The exact transformations that were used is listed in https://github.com/nitishbahadur/book_chapter/blob/master/data/synthetic_data/input/1586038282841_20.txt"
   ]
  },
  {
   "cell_type": "code",
   "execution_count": 32,
   "metadata": {},
   "outputs": [
    {
     "name": "stdout",
     "output_type": "stream",
     "text": [
      "Processing 1 of 5\n",
      "not useful - dimension determined by >= 0.01 metric is ==> 14\n",
      "\n",
      "Processing 2 of 5\n",
      "not useful - dimension determined by >= 0.01 metric is ==> 13\n",
      "\n",
      "Processing 3 of 5\n",
      "not useful - dimension determined by >= 0.01 metric is ==> 14\n",
      "\n",
      "Processing 4 of 5\n",
      "not useful - dimension determined by >= 0.01 metric is ==> 14\n",
      "\n",
      "Processing 5 of 5\n",
      "not useful - dimension determined by >= 0.01 metric is ==> 14\n",
      "\n"
     ]
    }
   ],
   "source": [
    "max_iterations = 5\n",
    "for i in range(max_iterations):\n",
    "    print(f\"Processing {i+1} of {max_iterations}\")\n",
    "    millis = int(round(time.time() * 1000))\n",
    "    filepath = os.path.join(r'./debug', str(millis)+\".txt\")\n",
    "    f = open(filepath, \"w\")\n",
    "    D = apply_nonlinear_fn(M=C, use_n_cols=2, fh=f)\n",
    "    f.close()\n",
    "    U_d, S_d, V_d = np.linalg.svd(D)\n",
    "    gte_threshold_= 0.01 # 1%\n",
    "    gte_dim = count_gt_threshold(z = S_d, threshold = gte_threshold_)\n",
    "    \n",
    "    if gte_dim > 15:\n",
    "        print(\"Dimension determined by >= {} metric is ==> {}\".format(gte_threshold_, gte_dim))\n",
    "        print()\n",
    "                \n",
    "        np.save(r'./debug/C_{}_dim_{}'.format(millis, c_gte_dim), C)\n",
    "        np.save(r'./debug/D_{}_dim_{}'.format(millis, gte_dim), D)        \n",
    "    else:\n",
    "        print(\"not useful - dimension determined by >= {} metric is ==> {}\".format(gte_threshold_, gte_dim))\n",
    "        print()\n",
    "        os.remove(filepath)"
   ]
  },
  {
   "cell_type": "code",
   "execution_count": null,
   "metadata": {},
   "outputs": [],
   "source": []
  }
 ],
 "metadata": {
  "kernelspec": {
   "display_name": "pythongpu",
   "language": "python",
   "name": "pythongpu"
  },
  "language_info": {
   "codemirror_mode": {
    "name": "ipython",
    "version": 3
   },
   "file_extension": ".py",
   "mimetype": "text/x-python",
   "name": "python",
   "nbconvert_exporter": "python",
   "pygments_lexer": "ipython3",
   "version": "3.7.9"
  }
 },
 "nbformat": 4,
 "nbformat_minor": 2
}
