{
 "cells": [
  {
   "cell_type": "markdown",
   "metadata": {},
   "source": [
    "# SPDR ETF Dimension Estimation"
   ]
  },
  {
   "cell_type": "markdown",
   "metadata": {},
   "source": [
    "Autoencoder innermost layer is refashioned into singular value proxies (SVP).  These SVP are used to estimate dimension of the dataset."
   ]
  },
  {
   "cell_type": "code",
   "execution_count": 45,
   "metadata": {},
   "outputs": [],
   "source": [
    "import numpy as np\n",
    "import pandas as pd\n",
    "import os\n",
    "import sys\n",
    "import csv\n",
    "import json\n",
    "\n",
    "from datetime import datetime\n",
    "\n",
    "from tensorflow.keras.layers import Input, Dense, Lambda, Dropout\n",
    "from tensorflow.keras.models import Model\n",
    "from keras import regularizers\n",
    "from keras.callbacks import Callback\n",
    "from keras import backend as K\n",
    "import tensorflow as tf\n",
    "from keras.regularizers import Regularizer\n",
    "\n",
    "import scipy.sparse\n",
    "from keras.models import load_model"
   ]
  },
  {
   "cell_type": "code",
   "execution_count": 46,
   "metadata": {},
   "outputs": [],
   "source": [
    "from scipy.spatial.distance import squareform, pdist"
   ]
  },
  {
   "cell_type": "markdown",
   "metadata": {},
   "source": [
    "The iPython notebook code is only being provided for convenience.  \n",
    "\n",
    "All Linux code along with scripts is available at https://github.com/nitishbahadur/book_chapter. Our Linux code is based on tensorflow 1.x.  Python package requirements were exported and available https://github.com/nitishbahadur/book_chapter/blob/master/src/requirements.txt.\n",
    "\n",
    "We run our production code on https://arc.wpi.edu/cluster-documentation/build/html/clusters.html for performance reasons."
   ]
  },
  {
   "cell_type": "code",
   "execution_count": 47,
   "metadata": {},
   "outputs": [],
   "source": [
    "tf.compat.v1.get_default_graph()\n",
    "tf.compat.v1.disable_v2_behavior()\n",
    "tf.compat.v1.disable_eager_execution()"
   ]
  },
  {
   "cell_type": "markdown",
   "metadata": {},
   "source": [
    "Load S&P 500 data frp, data folder"
   ]
  },
  {
   "cell_type": "code",
   "execution_count": 48,
   "metadata": {},
   "outputs": [],
   "source": [
    "def get_etf_data(etf_ticker):\n",
    "    df_etf_ret = pd.read_csv(r'../data/etf_de/input/{}_returns.csv'.format(etf_ticker))\n",
    "    df_etf_ret['Date'] = pd.to_datetime(df_etf_ret['Date'], format='%Y-%m-%d')\n",
    "    df_etf_ret.set_index(df_etf_ret['Date'], inplace=True)\n",
    "    df_etf_ret.drop(columns=['Date'], inplace=True)    \n",
    "    X = df_etf_ret.values\n",
    "    \n",
    "    split_index = int(len(df_etf_ret)*.80) # 80% is training\n",
    "    \n",
    "    X = df_etf_ret.values\n",
    "    X = X.astype('float32')\n",
    "    X = X / np.max(np.abs(X))\n",
    "\n",
    "    x_train = X[:split_index,:]\n",
    "    x_test = X[split_index:,:]\n",
    "\n",
    "    return x_train, x_test, df_etf_ret, split_index"
   ]
  },
  {
   "cell_type": "markdown",
   "metadata": {},
   "source": [
    "Build the autoencoder model where the innermost layer is using a sigmoid activation function.  The autoencoder also uses dropout layers to control for overfitting.  We use a custom loss function."
   ]
  },
  {
   "cell_type": "code",
   "execution_count": 49,
   "metadata": {},
   "outputs": [],
   "source": [
    "def build_ae_model(l1_reg, input_dim, encoding_dim):\n",
    "    input_img = Input(shape=(input_dim,))\n",
    "    encoded = Dense(50, activation='relu')(input_img)\n",
    "    encoded = Dense(40, activation='relu')(encoded)\n",
    "    \n",
    "    z_layer_input = Lambda(lambda  x: K.l2_normalize(x,axis=1))(encoded)\n",
    "    encoded = Dense(encoding_dim, activation='relu')(z_layer_input)\n",
    "    encoded_norm = Lambda(lambda  x: K.l2_normalize(x,axis=1))(encoded)\n",
    "\n",
    "    # create encoder model\n",
    "    encoder = Model(input_img, encoded)\n",
    "    \n",
    "    # decoder\n",
    "    decoded = Dense(40, activation='relu')(encoded)\n",
    "    decoded = Dense(50, activation='relu')(decoded)\n",
    "    decoded = Dense(input_dim, activation='sigmoid')(decoded)\n",
    "\n",
    "    # create autoencoder model\n",
    "    autoencoder = Model(input_img, decoded)\n",
    "\n",
    "    # create decoder model\n",
    "    encoded_input = Input(shape=(encoding_dim,))\n",
    "    deco = autoencoder.layers[-3](encoded_input)\n",
    "    deco = autoencoder.layers[-2](deco)\n",
    "    deco = autoencoder.layers[-1](deco)    \n",
    "    decoder = Model(encoded_input, deco)    \n",
    "                \n",
    "    autoencoder.compile(optimizer='adadelta', loss=mse_l1_loss(encoded_norm, l1_reg))\n",
    "    return encoder, decoder, autoencoder\n",
    "\n",
    "# the loss function\n",
    "def mse_l1_loss(encoded_layer, lambda_):    \n",
    "    def loss(y_true, y_pred):\n",
    "        return K.mean(K.square(y_pred - y_true) + lambda_ * K.sum(K.abs(encoded_layer)))\n",
    "    return loss "
   ]
  },
  {
   "cell_type": "code",
   "execution_count": 50,
   "metadata": {},
   "outputs": [],
   "source": [
    "def save_output(x, encoder, date_str, etf_ticker, encoding_dim, l1_reg):\n",
    "    x_encoded = encoder.predict(x)\n",
    "    z_row_sorted = sort_by_row(x_encoded)\n",
    "    mu = np.mean(z_row_sorted, axis=0)\n",
    "    print(\"1% count_gt_threshold(z_row_sorted, threshold): {}\".format(count_gt_threshold(mu, 0.01)))\n",
    "\n",
    "    mu1 = np.mean(x_encoded, axis=0)\n",
    "    print(\"1% count_gt_threshold(z, threshold): {}\".format(count_gt_threshold(mu1, 0.01)))\n",
    "\n",
    "    x_encoded_filename = r\"../data/etf_de/output/x_{}_encoded_{}_{}_{}\"\n",
    "    np.save(x_encoded_filename.format(date_str, encoding_dim, l1_reg, etf_ticker), x_encoded)"
   ]
  },
  {
   "cell_type": "code",
   "execution_count": 51,
   "metadata": {},
   "outputs": [],
   "source": [
    "def get_data_by_date(df_etf_ret, x_test, split_index, date_str):\n",
    "    test_width = 60\n",
    "    test_max_rows = len(x_test) - test_width + 1\n",
    "    for i in range(0, test_max_rows):\n",
    "        df_ = df_etf_ret.iloc[i+split_index:i+test_width+split_index,:].copy()\n",
    "        dt = df_.index[-1]\n",
    "        if dt.strftime('%Y%m%d') == date_str:\n",
    "            dist = squareform(pdist(df_.values)) \n",
    "            x_train = dist.astype('float32')\n",
    "            x_train = x_train / np.max(x_train)    \n",
    "            return x_train"
   ]
  },
  {
   "cell_type": "code",
   "execution_count": 52,
   "metadata": {},
   "outputs": [],
   "source": [
    "def count_gt_threshold(z, threshold):\n",
    "    tot = sum(z)\n",
    "    z_pct = [(i/tot) for i in sorted(z, reverse=True)]\n",
    "    z_gt_theta = [i for i in z_pct if i >= threshold]\n",
    "    return len(z_gt_theta)\n",
    "\n",
    "def sort_by_row(z):\n",
    "    z_sorted = None\n",
    "    for i in np.arange(z.shape[0]):\n",
    "        z_s = sorted(z[i,:], reverse=True)\n",
    "        if z_sorted is None:\n",
    "            z_sorted = z_s\n",
    "        else:\n",
    "            z_sorted = np.vstack((z_sorted,z_s))\n",
    "    return z_sorted"
   ]
  },
  {
   "cell_type": "markdown",
   "metadata": {},
   "source": [
    "We run our production code on https://arc.wpi.edu/cluster-documentation/build/html/clusters.html for scalability reasons.  To estimate dimension time series we need to run the same model for different ETFs on different days.  \n",
    "\n",
    "For demonstration purposes we show how to run this for 'XLK' (Technology Sector) on 20200302 (March 2nd, 2020)"
   ]
  },
  {
   "cell_type": "code",
   "execution_count": 53,
   "metadata": {},
   "outputs": [],
   "source": [
    "etf_ticker = 'XLK'\n",
    "date_str = '20200302'"
   ]
  },
  {
   "cell_type": "code",
   "execution_count": 54,
   "metadata": {},
   "outputs": [],
   "source": [
    "etf_train, etf_test, df_etf_ret, split_index = get_etf_data(etf_ticker)\n",
    "x_train = get_data_by_date(df_etf_ret, etf_test, split_index, date_str)"
   ]
  },
  {
   "cell_type": "code",
   "execution_count": 55,
   "metadata": {},
   "outputs": [],
   "source": [
    "l1_reg = 5e-5\n",
    "encoding_dim = 30\n",
    "epochs = 100 # on production we run this for large number (30000) epochs\n",
    "batch_size = 1\n",
    "input_dim = x_train.shape[1]"
   ]
  },
  {
   "cell_type": "code",
   "execution_count": 56,
   "metadata": {},
   "outputs": [
    {
     "name": "stdout",
     "output_type": "stream",
     "text": [
      "Running RELU/SIGMOID AE with the following parameters : \n",
      "etf_ticker : XLK date_str: 20200302\n",
      "x_train dimension : (60 x 60)\n",
      "encoding_dim dimension : 30\n",
      "epochs : 100 batch_size : 1\n",
      "Running encoding_dim: 30 l1_reg: 5e-05\n"
     ]
    }
   ],
   "source": [
    "print(\"Running RELU/SIGMOID AE with the following parameters : \")\n",
    "print(\"etf_ticker : {} date_str: {}\".format(etf_ticker, date_str))\n",
    "print(\"x_train dimension : ({} x {})\".format(x_train.shape[0], x_train.shape[1]))\n",
    "print(\"encoding_dim dimension : {}\".format(encoding_dim))\n",
    "print(\"epochs : {} batch_size : {}\".format(epochs, batch_size))\n",
    "print(\"Running encoding_dim: {} l1_reg: {}\".format(encoding_dim, l1_reg))"
   ]
  },
  {
   "cell_type": "markdown",
   "metadata": {},
   "source": [
    "Create the encoder, decoder, and autoencoder model"
   ]
  },
  {
   "cell_type": "code",
   "execution_count": 57,
   "metadata": {},
   "outputs": [],
   "source": [
    "encoder, decoder, autoencoder = build_ae_model(l1_reg, input_dim, encoding_dim) "
   ]
  },
  {
   "cell_type": "code",
   "execution_count": 58,
   "metadata": {},
   "outputs": [
    {
     "name": "stdout",
     "output_type": "stream",
     "text": [
      "Model: \"model_4\"\n",
      "_________________________________________________________________\n",
      "Layer (type)                 Output Shape              Param #   \n",
      "=================================================================\n",
      "input_3 (InputLayer)         [(None, 60)]              0         \n",
      "_________________________________________________________________\n",
      "dense_6 (Dense)              (None, 50)                3050      \n",
      "_________________________________________________________________\n",
      "dense_7 (Dense)              (None, 40)                2040      \n",
      "_________________________________________________________________\n",
      "lambda_2 (Lambda)            (None, 40)                0         \n",
      "_________________________________________________________________\n",
      "dense_8 (Dense)              (None, 30)                1230      \n",
      "_________________________________________________________________\n",
      "dense_9 (Dense)              (None, 40)                1240      \n",
      "_________________________________________________________________\n",
      "dense_10 (Dense)             (None, 50)                2050      \n",
      "_________________________________________________________________\n",
      "dense_11 (Dense)             (None, 60)                3060      \n",
      "=================================================================\n",
      "Total params: 12,670\n",
      "Trainable params: 12,670\n",
      "Non-trainable params: 0\n",
      "_________________________________________________________________\n"
     ]
    }
   ],
   "source": [
    "autoencoder.summary()"
   ]
  },
  {
   "cell_type": "code",
   "execution_count": 59,
   "metadata": {},
   "outputs": [
    {
     "name": "stdout",
     "output_type": "stream",
     "text": [
      "Train on 60 samples\n",
      "Epoch 1/100\n",
      "60/60 - 0s - loss: 0.0679\n",
      "Epoch 2/100\n",
      "60/60 - 0s - loss: 0.0679\n",
      "Epoch 3/100\n",
      "60/60 - 0s - loss: 0.0679\n",
      "Epoch 4/100\n",
      "60/60 - 0s - loss: 0.0679\n",
      "Epoch 5/100\n",
      "60/60 - 0s - loss: 0.0678\n",
      "Epoch 6/100\n",
      "60/60 - 0s - loss: 0.0678\n",
      "Epoch 7/100\n",
      "60/60 - 0s - loss: 0.0678\n",
      "Epoch 8/100\n",
      "60/60 - 0s - loss: 0.0678\n",
      "Epoch 9/100\n",
      "60/60 - 0s - loss: 0.0678\n",
      "Epoch 10/100\n",
      "60/60 - 0s - loss: 0.0677\n",
      "Epoch 11/100\n",
      "60/60 - 0s - loss: 0.0677\n",
      "Epoch 12/100\n",
      "60/60 - 0s - loss: 0.0677\n",
      "Epoch 13/100\n",
      "60/60 - 0s - loss: 0.0677\n",
      "Epoch 14/100\n",
      "60/60 - 0s - loss: 0.0677\n",
      "Epoch 15/100\n",
      "60/60 - 0s - loss: 0.0676\n",
      "Epoch 16/100\n",
      "60/60 - 0s - loss: 0.0676\n",
      "Epoch 17/100\n",
      "60/60 - 0s - loss: 0.0676\n",
      "Epoch 18/100\n",
      "60/60 - 0s - loss: 0.0676\n",
      "Epoch 19/100\n",
      "60/60 - 0s - loss: 0.0675\n",
      "Epoch 20/100\n",
      "60/60 - 0s - loss: 0.0675\n",
      "Epoch 21/100\n",
      "60/60 - 0s - loss: 0.0675\n",
      "Epoch 22/100\n",
      "60/60 - 0s - loss: 0.0675\n",
      "Epoch 23/100\n",
      "60/60 - 0s - loss: 0.0675\n",
      "Epoch 24/100\n",
      "60/60 - 0s - loss: 0.0674\n",
      "Epoch 25/100\n",
      "60/60 - 0s - loss: 0.0674\n",
      "Epoch 26/100\n",
      "60/60 - 0s - loss: 0.0674\n",
      "Epoch 27/100\n",
      "60/60 - 0s - loss: 0.0674\n",
      "Epoch 28/100\n",
      "60/60 - 0s - loss: 0.0673\n",
      "Epoch 29/100\n",
      "60/60 - 0s - loss: 0.0673\n",
      "Epoch 30/100\n",
      "60/60 - 0s - loss: 0.0673\n",
      "Epoch 31/100\n",
      "60/60 - 0s - loss: 0.0673\n",
      "Epoch 32/100\n",
      "60/60 - 0s - loss: 0.0673\n",
      "Epoch 33/100\n",
      "60/60 - 0s - loss: 0.0672\n",
      "Epoch 34/100\n",
      "60/60 - 0s - loss: 0.0672\n",
      "Epoch 35/100\n",
      "60/60 - 0s - loss: 0.0672\n",
      "Epoch 36/100\n",
      "60/60 - 0s - loss: 0.0672\n",
      "Epoch 37/100\n",
      "60/60 - 0s - loss: 0.0672\n",
      "Epoch 38/100\n",
      "60/60 - 0s - loss: 0.0671\n",
      "Epoch 39/100\n",
      "60/60 - 0s - loss: 0.0671\n",
      "Epoch 40/100\n",
      "60/60 - 0s - loss: 0.0671\n",
      "Epoch 41/100\n",
      "60/60 - 0s - loss: 0.0671\n",
      "Epoch 42/100\n",
      "60/60 - 0s - loss: 0.0670\n",
      "Epoch 43/100\n",
      "60/60 - 0s - loss: 0.0670\n",
      "Epoch 44/100\n",
      "60/60 - 0s - loss: 0.0670\n",
      "Epoch 45/100\n",
      "60/60 - 0s - loss: 0.0670\n",
      "Epoch 46/100\n",
      "60/60 - 0s - loss: 0.0670\n",
      "Epoch 47/100\n",
      "60/60 - 0s - loss: 0.0669\n",
      "Epoch 48/100\n",
      "60/60 - 0s - loss: 0.0669\n",
      "Epoch 49/100\n",
      "60/60 - 0s - loss: 0.0669\n",
      "Epoch 50/100\n",
      "60/60 - 0s - loss: 0.0669\n",
      "Epoch 51/100\n",
      "60/60 - 0s - loss: 0.0668\n",
      "Epoch 52/100\n",
      "60/60 - 0s - loss: 0.0668\n",
      "Epoch 53/100\n",
      "60/60 - 0s - loss: 0.0668\n",
      "Epoch 54/100\n",
      "60/60 - 0s - loss: 0.0668\n",
      "Epoch 55/100\n",
      "60/60 - 0s - loss: 0.0668\n",
      "Epoch 56/100\n",
      "60/60 - 0s - loss: 0.0667\n",
      "Epoch 57/100\n",
      "60/60 - 0s - loss: 0.0667\n",
      "Epoch 58/100\n",
      "60/60 - 0s - loss: 0.0667\n",
      "Epoch 59/100\n",
      "60/60 - 0s - loss: 0.0667\n",
      "Epoch 60/100\n",
      "60/60 - 0s - loss: 0.0666\n",
      "Epoch 61/100\n",
      "60/60 - 0s - loss: 0.0666\n",
      "Epoch 62/100\n",
      "60/60 - 0s - loss: 0.0666\n",
      "Epoch 63/100\n",
      "60/60 - 0s - loss: 0.0666\n",
      "Epoch 64/100\n",
      "60/60 - 0s - loss: 0.0666\n",
      "Epoch 65/100\n",
      "60/60 - 0s - loss: 0.0665\n",
      "Epoch 66/100\n",
      "60/60 - 0s - loss: 0.0665\n",
      "Epoch 67/100\n",
      "60/60 - 0s - loss: 0.0665\n",
      "Epoch 68/100\n",
      "60/60 - 0s - loss: 0.0665\n",
      "Epoch 69/100\n",
      "60/60 - 0s - loss: 0.0665\n",
      "Epoch 70/100\n",
      "60/60 - 0s - loss: 0.0664\n",
      "Epoch 71/100\n",
      "60/60 - 0s - loss: 0.0664\n",
      "Epoch 72/100\n",
      "60/60 - 0s - loss: 0.0664\n",
      "Epoch 73/100\n",
      "60/60 - 0s - loss: 0.0664\n",
      "Epoch 74/100\n",
      "60/60 - 0s - loss: 0.0664\n",
      "Epoch 75/100\n",
      "60/60 - 0s - loss: 0.0663\n",
      "Epoch 76/100\n",
      "60/60 - 0s - loss: 0.0663\n",
      "Epoch 77/100\n",
      "60/60 - 0s - loss: 0.0663\n",
      "Epoch 78/100\n",
      "60/60 - 0s - loss: 0.0663\n",
      "Epoch 79/100\n",
      "60/60 - 0s - loss: 0.0662\n",
      "Epoch 80/100\n",
      "60/60 - 0s - loss: 0.0662\n",
      "Epoch 81/100\n",
      "60/60 - 0s - loss: 0.0662\n",
      "Epoch 82/100\n",
      "60/60 - 0s - loss: 0.0662\n",
      "Epoch 83/100\n",
      "60/60 - 0s - loss: 0.0662\n",
      "Epoch 84/100\n",
      "60/60 - 0s - loss: 0.0661\n",
      "Epoch 85/100\n",
      "60/60 - 0s - loss: 0.0661\n",
      "Epoch 86/100\n",
      "60/60 - 0s - loss: 0.0661\n",
      "Epoch 87/100\n",
      "60/60 - 0s - loss: 0.0661\n",
      "Epoch 88/100\n",
      "60/60 - 0s - loss: 0.0661\n",
      "Epoch 89/100\n",
      "60/60 - 0s - loss: 0.0660\n",
      "Epoch 90/100\n",
      "60/60 - 0s - loss: 0.0660\n",
      "Epoch 91/100\n",
      "60/60 - 0s - loss: 0.0660\n",
      "Epoch 92/100\n",
      "60/60 - 0s - loss: 0.0660\n",
      "Epoch 93/100\n",
      "60/60 - 0s - loss: 0.0660\n",
      "Epoch 94/100\n",
      "60/60 - 0s - loss: 0.0659\n",
      "Epoch 95/100\n",
      "60/60 - 0s - loss: 0.0659\n",
      "Epoch 96/100\n",
      "60/60 - 0s - loss: 0.0659\n",
      "Epoch 97/100\n",
      "60/60 - 0s - loss: 0.0659\n",
      "Epoch 98/100\n",
      "60/60 - 0s - loss: 0.0659\n",
      "Epoch 99/100\n",
      "60/60 - 0s - loss: 0.0658\n",
      "Epoch 100/100\n",
      "60/60 - 0s - loss: 0.0658\n"
     ]
    }
   ],
   "source": [
    "history = autoencoder.fit(x_train, x_train, epochs=epochs, batch_size=batch_size, verbose=2, shuffle=False)"
   ]
  },
  {
   "cell_type": "code",
   "execution_count": 60,
   "metadata": {},
   "outputs": [
    {
     "name": "stdout",
     "output_type": "stream",
     "text": [
      "AE,XLK,20200302,0.0658,14,14\n"
     ]
    }
   ],
   "source": [
    "z = encoder.predict(x_train) # use x_test\n",
    "z_row_sorted = sort_by_row(z)\n",
    "z_mu = np.mean(z_row_sorted, axis=0)\n",
    "gte_sorted = count_gt_threshold(z_mu, 0.01)\n",
    "        \n",
    "z_mu_1 = sorted(np.mean(z, axis=0), reverse=True)\n",
    "gte_dim = count_gt_threshold(z_mu_1, 0.01)\n",
    "loss = history.history['loss'][-1]\n",
    "                \n",
    "print(\"AE,{},{},{:.4f},{},{}\".format(etf_ticker, date_str, loss, gte_sorted, gte_dim))"
   ]
  },
  {
   "cell_type": "code",
   "execution_count": 61,
   "metadata": {},
   "outputs": [],
   "source": [
    "# save_output(x_train, encoder, date_str, etf_ticker, encoding_dim, l1_reg)"
   ]
  }
 ],
 "metadata": {
  "kernelspec": {
   "display_name": "pythongpu",
   "language": "python",
   "name": "pythongpu"
  },
  "language_info": {
   "codemirror_mode": {
    "name": "ipython",
    "version": 3
   },
   "file_extension": ".py",
   "mimetype": "text/x-python",
   "name": "python",
   "nbconvert_exporter": "python",
   "pygments_lexer": "ipython3",
   "version": "3.7.9"
  }
 },
 "nbformat": 4,
 "nbformat_minor": 2
}
